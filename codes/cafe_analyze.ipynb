{
 "cells": [
  {
   "cell_type": "code",
   "execution_count": 3,
   "id": "31a50a6d",
   "metadata": {},
   "outputs": [],
   "source": [
    "#필요 라이브러리 import\n",
    "import numpy as np\n",
    "import pandas as pd\n",
    "from lifelines import KaplanMeierFitter\n",
    "import matplotlib.pyplot as plt"
   ]
  },
  {
   "cell_type": "markdown",
   "id": "1e13d8fc",
   "metadata": {},
   "source": [
    "# 카페 폐업률 생존분석\n",
    "\n",
    "1. Kaplan-Mieier 생존곡선(비모수적)\n",
    "2. Cox 비례위험모형(반모수적)"
   ]
  },
  {
   "cell_type": "markdown",
   "id": "cc6ab0cf",
   "metadata": {},
   "source": [
    "## 1. Kaplan-Meier 생존 곡선"
   ]
  },
  {
   "cell_type": "code",
   "execution_count": 4,
   "id": "e246f6fa",
   "metadata": {},
   "outputs": [
    {
     "data": {
      "text/html": [
       "<div>\n",
       "<style scoped>\n",
       "    .dataframe tbody tr th:only-of-type {\n",
       "        vertical-align: middle;\n",
       "    }\n",
       "\n",
       "    .dataframe tbody tr th {\n",
       "        vertical-align: top;\n",
       "    }\n",
       "\n",
       "    .dataframe thead th {\n",
       "        text-align: right;\n",
       "    }\n",
       "</style>\n",
       "<table border=\"1\" class=\"dataframe\">\n",
       "  <thead>\n",
       "    <tr style=\"text-align: right;\">\n",
       "      <th></th>\n",
       "      <th>area</th>\n",
       "      <th>franchise</th>\n",
       "      <th>small_area</th>\n",
       "      <th>closed</th>\n",
       "      <th>period_month</th>\n",
       "      <th>univ_count</th>\n",
       "      <th>univ_area</th>\n",
       "      <th>univ_pop</th>\n",
       "    </tr>\n",
       "  </thead>\n",
       "  <tbody>\n",
       "    <tr>\n",
       "      <th>0</th>\n",
       "      <td>53.00</td>\n",
       "      <td>0</td>\n",
       "      <td>0</td>\n",
       "      <td>1</td>\n",
       "      <td>0</td>\n",
       "      <td>3.0</td>\n",
       "      <td>1049479.0</td>\n",
       "      <td>22578.0</td>\n",
       "    </tr>\n",
       "    <tr>\n",
       "      <th>1</th>\n",
       "      <td>6.60</td>\n",
       "      <td>0</td>\n",
       "      <td>1</td>\n",
       "      <td>1</td>\n",
       "      <td>0</td>\n",
       "      <td>0.0</td>\n",
       "      <td>0.0</td>\n",
       "      <td>0.0</td>\n",
       "    </tr>\n",
       "    <tr>\n",
       "      <th>2</th>\n",
       "      <td>36.00</td>\n",
       "      <td>0</td>\n",
       "      <td>0</td>\n",
       "      <td>1</td>\n",
       "      <td>0</td>\n",
       "      <td>0.0</td>\n",
       "      <td>0.0</td>\n",
       "      <td>0.0</td>\n",
       "    </tr>\n",
       "    <tr>\n",
       "      <th>3</th>\n",
       "      <td>12.23</td>\n",
       "      <td>0</td>\n",
       "      <td>1</td>\n",
       "      <td>1</td>\n",
       "      <td>0</td>\n",
       "      <td>0.0</td>\n",
       "      <td>0.0</td>\n",
       "      <td>0.0</td>\n",
       "    </tr>\n",
       "    <tr>\n",
       "      <th>4</th>\n",
       "      <td>56.00</td>\n",
       "      <td>0</td>\n",
       "      <td>0</td>\n",
       "      <td>1</td>\n",
       "      <td>1</td>\n",
       "      <td>0.0</td>\n",
       "      <td>0.0</td>\n",
       "      <td>0.0</td>\n",
       "    </tr>\n",
       "    <tr>\n",
       "      <th>...</th>\n",
       "      <td>...</td>\n",
       "      <td>...</td>\n",
       "      <td>...</td>\n",
       "      <td>...</td>\n",
       "      <td>...</td>\n",
       "      <td>...</td>\n",
       "      <td>...</td>\n",
       "      <td>...</td>\n",
       "    </tr>\n",
       "    <tr>\n",
       "      <th>57011</th>\n",
       "      <td>152.50</td>\n",
       "      <td>1</td>\n",
       "      <td>0</td>\n",
       "      <td>0</td>\n",
       "      <td>153</td>\n",
       "      <td>0.0</td>\n",
       "      <td>0.0</td>\n",
       "      <td>0.0</td>\n",
       "    </tr>\n",
       "    <tr>\n",
       "      <th>57012</th>\n",
       "      <td>8.25</td>\n",
       "      <td>1</td>\n",
       "      <td>1</td>\n",
       "      <td>0</td>\n",
       "      <td>154</td>\n",
       "      <td>0.0</td>\n",
       "      <td>0.0</td>\n",
       "      <td>0.0</td>\n",
       "    </tr>\n",
       "    <tr>\n",
       "      <th>57013</th>\n",
       "      <td>169.60</td>\n",
       "      <td>1</td>\n",
       "      <td>0</td>\n",
       "      <td>0</td>\n",
       "      <td>298</td>\n",
       "      <td>0.0</td>\n",
       "      <td>0.0</td>\n",
       "      <td>0.0</td>\n",
       "    </tr>\n",
       "    <tr>\n",
       "      <th>57014</th>\n",
       "      <td>59.49</td>\n",
       "      <td>1</td>\n",
       "      <td>0</td>\n",
       "      <td>0</td>\n",
       "      <td>328</td>\n",
       "      <td>0.0</td>\n",
       "      <td>0.0</td>\n",
       "      <td>0.0</td>\n",
       "    </tr>\n",
       "    <tr>\n",
       "      <th>57015</th>\n",
       "      <td>161.44</td>\n",
       "      <td>1</td>\n",
       "      <td>0</td>\n",
       "      <td>0</td>\n",
       "      <td>322</td>\n",
       "      <td>0.0</td>\n",
       "      <td>0.0</td>\n",
       "      <td>0.0</td>\n",
       "    </tr>\n",
       "  </tbody>\n",
       "</table>\n",
       "<p>57016 rows × 8 columns</p>\n",
       "</div>"
      ],
      "text/plain": [
       "         area  franchise  small_area  closed  period_month  univ_count  \\\n",
       "0       53.00          0           0       1             0         3.0   \n",
       "1        6.60          0           1       1             0         0.0   \n",
       "2       36.00          0           0       1             0         0.0   \n",
       "3       12.23          0           1       1             0         0.0   \n",
       "4       56.00          0           0       1             1         0.0   \n",
       "...       ...        ...         ...     ...           ...         ...   \n",
       "57011  152.50          1           0       0           153         0.0   \n",
       "57012    8.25          1           1       0           154         0.0   \n",
       "57013  169.60          1           0       0           298         0.0   \n",
       "57014   59.49          1           0       0           328         0.0   \n",
       "57015  161.44          1           0       0           322         0.0   \n",
       "\n",
       "       univ_area  univ_pop  \n",
       "0      1049479.0   22578.0  \n",
       "1            0.0       0.0  \n",
       "2            0.0       0.0  \n",
       "3            0.0       0.0  \n",
       "4            0.0       0.0  \n",
       "...          ...       ...  \n",
       "57011        0.0       0.0  \n",
       "57012        0.0       0.0  \n",
       "57013        0.0       0.0  \n",
       "57014        0.0       0.0  \n",
       "57015        0.0       0.0  \n",
       "\n",
       "[57016 rows x 8 columns]"
      ]
     },
     "execution_count": 4,
     "metadata": {},
     "output_type": "execute_result"
    }
   ],
   "source": [
    "# 데이터 불러오기\n",
    "data = pd.read_csv(\"df_all.csv\", index_col = 0)\n",
    "data"
   ]
  },
  {
   "cell_type": "markdown",
   "id": "13e7ad41",
   "metadata": {},
   "source": [
    "### (1) 데이터 확인하기"
   ]
  },
  {
   "cell_type": "code",
   "execution_count": 24,
   "id": "2cad711a",
   "metadata": {},
   "outputs": [
    {
     "data": {
      "text/plain": [
       "period_month\n",
       "0      1410\n",
       "24      765\n",
       "12      756\n",
       "7       752\n",
       "5       718\n",
       "       ... \n",
       "627       1\n",
       "483       1\n",
       "795       1\n",
       "622       1\n",
       "645       1\n",
       "Name: count, Length: 632, dtype: int64"
      ]
     },
     "execution_count": 24,
     "metadata": {},
     "output_type": "execute_result"
    }
   ],
   "source": [
    "data['period_month'].value_counts()"
   ]
  },
  {
   "cell_type": "code",
   "execution_count": 25,
   "id": "de7adb47",
   "metadata": {},
   "outputs": [
    {
     "data": {
      "text/plain": [
       "(57016, 8)"
      ]
     },
     "execution_count": 25,
     "metadata": {},
     "output_type": "execute_result"
    }
   ],
   "source": [
    "#데이터 형태 파악\n",
    "data.shape"
   ]
  },
  {
   "cell_type": "code",
   "execution_count": 26,
   "id": "5e3e0a1e",
   "metadata": {},
   "outputs": [
    {
     "data": {
      "text/plain": [
       "area            float64\n",
       "franchise         int64\n",
       "small_area        int64\n",
       "closed            int64\n",
       "period_month      int64\n",
       "univ_count      float64\n",
       "univ_area       float64\n",
       "univ_pop        float64\n",
       "dtype: object"
      ]
     },
     "execution_count": 26,
     "metadata": {},
     "output_type": "execute_result"
    }
   ],
   "source": [
    "#데이터 자료형 확인\n",
    "data.dtypes"
   ]
  },
  {
   "cell_type": "code",
   "execution_count": 27,
   "id": "f16b0cd3",
   "metadata": {
    "scrolled": true
   },
   "outputs": [
    {
     "data": {
      "text/plain": [
       "area            0\n",
       "franchise       0\n",
       "small_area      0\n",
       "closed          0\n",
       "period_month    0\n",
       "univ_count      0\n",
       "univ_area       0\n",
       "univ_pop        0\n",
       "dtype: int64"
      ]
     },
     "execution_count": 27,
     "metadata": {},
     "output_type": "execute_result"
    }
   ],
   "source": [
    "#데이터 결측치 확인\n",
    "data.isnull().sum()"
   ]
  },
  {
   "cell_type": "code",
   "execution_count": 28,
   "id": "a42c6135",
   "metadata": {},
   "outputs": [],
   "source": [
    "#kaplan_Meier에 사용할 변수 생성\n",
    "data_k = data[['franchise', 'closed', 'small_area', 'period_month', 'univ_count']]"
   ]
  },
  {
   "cell_type": "markdown",
   "id": "c4ff0de6",
   "metadata": {},
   "source": [
    "### (2) 데이터 그래프로 분포 확인하기\n",
    "- 히스토그램을 활용하여 확인"
   ]
  },
  {
   "cell_type": "code",
   "execution_count": 29,
   "id": "8e311803",
   "metadata": {},
   "outputs": [
    {
     "data": {
      "image/png": "[encoded data removed]",
      "text/plain": [
       "<Figure size 640x480 with 1 Axes>"
      ]
     },
     "metadata": {},
     "output_type": "display_data"
    },
    {
     "data": {
      "text/plain": [
       "<Figure size 1000x800 with 0 Axes>"
      ]
     },
     "metadata": {},
     "output_type": "display_data"
    }
   ],
   "source": [
    "#데이터 분포 히스토그램 그리기\n",
    "T = data[\"period_month\"]\n",
    "E = data[\"closed\"]\n",
    "plt.hist(T, bins = 1000)\n",
    "plt.xlabel('length')\n",
    "plt.figure(figsize=(10,8))\n",
    "plt.show()"
   ]
  },
  {
   "cell_type": "markdown",
   "id": "d3b3b409",
   "metadata": {},
   "source": [
    "- 영업기간별로 분포 파악\n",
    "- 초반 짧은 개월 사이에 폐업이 많이 일어난다. "
   ]
  },
  {
   "cell_type": "markdown",
   "id": "602c7141",
   "metadata": {},
   "source": [
    "### (3) Kaplan_Meier 생존곡선 그리기"
   ]
  },
  {
   "cell_type": "code",
   "execution_count": 10,
   "id": "e575402b",
   "metadata": {
    "scrolled": true
   },
   "outputs": [
    {
     "data": {
      "text/plain": [
       "<Axes: xlabel='time (months)', ylabel='survival function'>"
      ]
     },
     "execution_count": 10,
     "metadata": {},
     "output_type": "execute_result"
    },
    {
     "data": {
      "image/png": "[encoded data removed]",
      "text/plain": [
       "<Figure size 300x300 with 1 Axes>"
      ]
     },
     "metadata": {},
     "output_type": "display_data"
    }
   ],
   "source": [
    "#km 모델에 데이터 적용 - 전체 데이터에 대한 생존곡선\n",
    "\n",
    "#그래프 크기 지정\n",
    "plt.figure(figsize=(3, 3))\n",
    "#인스턴스 생성\n",
    "kmf = KaplanMeierFitter()\n",
    "#데이터 넣기\n",
    "kmf.fit(durations = T, event_observed = E)\n",
    "#그래프 그리기\n",
    "plot = kmf.plot_survival_function()\n",
    "plot.set_xlabel('time (months)')\n",
    "plot.set_ylabel('survival function')\n",
    "plot"
   ]
  },
  {
   "cell_type": "markdown",
   "id": "3c2be0ad",
   "metadata": {},
   "source": [
    "- 전체 데이터에 대한 누적생존율을 보여주고 있다. "
   ]
  },
  {
   "cell_type": "code",
   "execution_count": 11,
   "id": "836e2871",
   "metadata": {},
   "outputs": [],
   "source": [
    "#사용할 데이터 추출\n",
    "#대학교 수 별로\n",
    "data_univ_0 = data_k[data_k['univ_count'] == 0]\n",
    "data_univ_1 = data_k[data_k['univ_count'] == 1]\n",
    "data_univ_2 = data_k[data_k['univ_count'] == 2]\n",
    "data_univ_3 = data_k[data_k['univ_count'] == 3]"
   ]
  },
  {
   "cell_type": "code",
   "execution_count": 12,
   "id": "5ab4d8e7",
   "metadata": {},
   "outputs": [
    {
     "data": {
      "text/plain": [
       "<Axes: xlabel='Time (Months)', ylabel='Survival Rate'>"
      ]
     },
     "execution_count": 12,
     "metadata": {},
     "output_type": "execute_result"
    },
    {
     "data": {
      "image/png": "[encoded data removed]",
      "text/plain": [
       "<Figure size 640x480 with 1 Axes>"
      ]
     },
     "metadata": {},
     "output_type": "display_data"
    }
   ],
   "source": [
    "#Kaplan-Meier 생존곡선 비교\n",
    "#대학교 개수를 기준으로 0, 1, 2, 3개(같은 동에 대학교 최대 3개 존재) 있는 집단의 생존률 비교하는 4개의 곡선 생성\n",
    "kmf = KaplanMeierFitter()\n",
    "kmf.fit(data_univ_0['period_month'], data_univ_0['closed'], label='univ=0')\n",
    "ax_kmf = kmf.plot()\n",
    "kmf.fit(data_univ_1['period_month'], data_univ_1['closed'], label='univ=1')\n",
    "ax_kmf = kmf.plot(ax = ax_kmf)\n",
    "kmf.fit(data_univ_2['period_month'], data_univ_2['closed'], label='univ=2')\n",
    "ax_kmf = kmf.plot(ax = ax_kmf)\n",
    "kmf.fit(data_univ_3['period_month'], data_univ_3['closed'], label='univ=3')\n",
    "ax_kmf = kmf.plot(ax = ax_kmf)\n",
    "#그래프 label값 설정\n",
    "ax_kmf.set_xlabel('Time (Months)')\n",
    "ax_kmf.set_ylabel('Survival Rate')\n",
    "ax_kmf"
   ]
  },
  {
   "cell_type": "markdown",
   "id": "8052f886",
   "metadata": {},
   "source": [
    "### (4) log rank model\n",
    "- 그룹별 차이가 통계적으로 유의한지 확인"
   ]
  },
  {
   "cell_type": "code",
   "execution_count": 13,
   "id": "ce1b298f",
   "metadata": {},
   "outputs": [
    {
     "data": {
      "text/plain": [
       "2.0373912454903301e-07"
      ]
     },
     "execution_count": 13,
     "metadata": {},
     "output_type": "execute_result"
    }
   ],
   "source": [
    "from lifelines.statistics import logrank_test\n",
    "from lifelines.statistics import logrank_test\n",
    "#p-value 구하가\n",
    "logrank_test(data_univ_0[\"period_month\"], data_univ_1[\"period_month\"], data_univ_0[\"closed\"], data_univ_1[\"closed\"]).p_value"
   ]
  },
  {
   "cell_type": "code",
   "execution_count": 14,
   "id": "f2ac1527",
   "metadata": {},
   "outputs": [
    {
     "data": {
      "text/plain": [
       "0.01675962668442345"
      ]
     },
     "execution_count": 14,
     "metadata": {},
     "output_type": "execute_result"
    }
   ],
   "source": [
    "from lifelines.statistics import logrank_test\n",
    "from lifelines.statistics import logrank_test\n",
    "#p-value 구하가\n",
    "logrank_test(data_univ_0[\"period_month\"], data_univ_2[\"period_month\"], data_univ_0[\"closed\"], data_univ_2[\"closed\"]).p_value"
   ]
  },
  {
   "cell_type": "code",
   "execution_count": 15,
   "id": "d2699563",
   "metadata": {},
   "outputs": [
    {
     "data": {
      "text/plain": [
       "0.24302253223726403"
      ]
     },
     "execution_count": 15,
     "metadata": {},
     "output_type": "execute_result"
    }
   ],
   "source": [
    "from lifelines.statistics import logrank_test\n",
    "from lifelines.statistics import logrank_test\n",
    "#p-value 구하가\n",
    "logrank_test(data_univ_0[\"period_month\"], data_univ_3[\"period_month\"], data_univ_0[\"closed\"], data_univ_3[\"closed\"]).p_value"
   ]
  },
  {
   "cell_type": "code",
   "execution_count": 16,
   "id": "e779e649",
   "metadata": {},
   "outputs": [
    {
     "data": {
      "text/plain": [
       "0.40249509521964155"
      ]
     },
     "execution_count": 16,
     "metadata": {},
     "output_type": "execute_result"
    }
   ],
   "source": [
    "from lifelines.statistics import logrank_test\n",
    "from lifelines.statistics import logrank_test\n",
    "#p-value 구하가\n",
    "logrank_test(data_univ_1[\"period_month\"], data_univ_2[\"period_month\"], data_univ_1[\"closed\"], data_univ_2[\"closed\"]).p_value"
   ]
  },
  {
   "cell_type": "code",
   "execution_count": 17,
   "id": "6d61c60a",
   "metadata": {},
   "outputs": [
    {
     "data": {
      "text/plain": [
       "0.7638857894378461"
      ]
     },
     "execution_count": 17,
     "metadata": {},
     "output_type": "execute_result"
    }
   ],
   "source": [
    "from lifelines.statistics import logrank_test\n",
    "from lifelines.statistics import logrank_test\n",
    "#p-value 구하가\n",
    "logrank_test(data_univ_1[\"period_month\"], data_univ_3[\"period_month\"], data_univ_1[\"closed\"], data_univ_3[\"closed\"]).p_value"
   ]
  },
  {
   "cell_type": "code",
   "execution_count": 18,
   "id": "f38ab33e",
   "metadata": {},
   "outputs": [
    {
     "data": {
      "text/plain": [
       "0.8375906514123277"
      ]
     },
     "execution_count": 18,
     "metadata": {},
     "output_type": "execute_result"
    }
   ],
   "source": [
    "from lifelines.statistics import logrank_test\n",
    "from lifelines.statistics import logrank_test\n",
    "#p-value 구하가\n",
    "logrank_test(data_univ_2[\"period_month\"], data_univ_3[\"period_month\"], data_univ_2[\"closed\"], data_univ_3[\"closed\"]).p_value"
   ]
  },
  {
   "cell_type": "markdown",
   "id": "b16a4d15",
   "metadata": {},
   "source": [
    "- p-value < 0.05 이면 그룹 간의 차이가 유의하다고 판단한다. \n",
    "- 그러므로 대학교 개수가 0개, 2개 그룹은 통계적으로 유의미한 차이가 있다. \n",
    "- 대학교 개수가 0개, 1개인 그룹은 통계적으로 유의미한 차이가 있다.\n",
    "\n",
    "- 대학교 개수가 0개, 3개인 그룹은 통계적으로 유의미한 차이가 없다. \n",
    "- 대학교 개수가 1개, 2개인 그룹은 통계적으로 유의미한 차이가 없다. \n",
    "- 대학교 개수가 1개, 3개인 그룹은 통계적으로 유의미한 차이가 없다. \n",
    "- 대학교 개수가 2개, 3개인 그룹은 통계적으로 유의미한 차이가 없다. "
   ]
  },
  {
   "cell_type": "markdown",
   "id": "a4077df4",
   "metadata": {},
   "source": [
    "## 2. Cox 비례 위험 모형"
   ]
  },
  {
   "cell_type": "markdown",
   "id": "a3813471",
   "metadata": {},
   "source": [
    "### (1) 전체 데이터에 대하여 생존에 영향을 미치는 위험 요인들에 대한 분석"
   ]
  },
  {
   "cell_type": "code",
   "execution_count": 15,
   "id": "f52dc3ea",
   "metadata": {},
   "outputs": [
    {
     "data": {
      "text/html": [
       "<div>\n",
       "<style scoped>\n",
       "    .dataframe tbody tr th:only-of-type {\n",
       "        vertical-align: middle;\n",
       "    }\n",
       "\n",
       "    .dataframe tbody tr th {\n",
       "        vertical-align: top;\n",
       "    }\n",
       "\n",
       "    .dataframe thead th {\n",
       "        text-align: right;\n",
       "    }\n",
       "</style>\n",
       "<table border=\"1\" class=\"dataframe\">\n",
       "  <tbody>\n",
       "    <tr>\n",
       "      <th>model</th>\n",
       "      <td>lifelines.CoxPHFitter</td>\n",
       "    </tr>\n",
       "    <tr>\n",
       "      <th>duration col</th>\n",
       "      <td>'period_month'</td>\n",
       "    </tr>\n",
       "    <tr>\n",
       "      <th>event col</th>\n",
       "      <td>'closed'</td>\n",
       "    </tr>\n",
       "    <tr>\n",
       "      <th>baseline estimation</th>\n",
       "      <td>breslow</td>\n",
       "    </tr>\n",
       "    <tr>\n",
       "      <th>number of observations</th>\n",
       "      <td>57016</td>\n",
       "    </tr>\n",
       "    <tr>\n",
       "      <th>number of events observed</th>\n",
       "      <td>39157</td>\n",
       "    </tr>\n",
       "    <tr>\n",
       "      <th>partial log-likelihood</th>\n",
       "      <td>-390747.58</td>\n",
       "    </tr>\n",
       "    <tr>\n",
       "      <th>time fit was run</th>\n",
       "      <td>2023-12-09 14:07:20 UTC</td>\n",
       "    </tr>\n",
       "  </tbody>\n",
       "</table>\n",
       "</div><table border=\"1\" class=\"dataframe\">\n",
       "  <thead>\n",
       "    <tr style=\"text-align: right;\">\n",
       "      <th style=\"min-width: 12px;\"></th>\n",
       "      <th style=\"min-width: 12px;\">coef</th>\n",
       "      <th style=\"min-width: 12px;\">exp(coef)</th>\n",
       "      <th style=\"min-width: 12px;\">se(coef)</th>\n",
       "      <th style=\"min-width: 12px;\">coef lower 95%</th>\n",
       "      <th style=\"min-width: 12px;\">coef upper 95%</th>\n",
       "      <th style=\"min-width: 12px;\">exp(coef) lower 95%</th>\n",
       "      <th style=\"min-width: 12px;\">exp(coef) upper 95%</th>\n",
       "      <th style=\"min-width: 12px;\">cmp to</th>\n",
       "      <th style=\"min-width: 12px;\">z</th>\n",
       "      <th style=\"min-width: 12px;\">p</th>\n",
       "      <th style=\"min-width: 12px;\">-log2(p)</th>\n",
       "    </tr>\n",
       "  </thead>\n",
       "  <tbody>\n",
       "    <tr>\n",
       "      <th>franchise</th>\n",
       "      <td>-0.57</td>\n",
       "      <td>0.57</td>\n",
       "      <td>0.02</td>\n",
       "      <td>-0.61</td>\n",
       "      <td>-0.52</td>\n",
       "      <td>0.54</td>\n",
       "      <td>0.59</td>\n",
       "      <td>0.00</td>\n",
       "      <td>-25.70</td>\n",
       "      <td>&lt;0.005</td>\n",
       "      <td>481.46</td>\n",
       "    </tr>\n",
       "    <tr>\n",
       "      <th>small_area</th>\n",
       "      <td>0.19</td>\n",
       "      <td>1.21</td>\n",
       "      <td>0.01</td>\n",
       "      <td>0.17</td>\n",
       "      <td>0.22</td>\n",
       "      <td>1.19</td>\n",
       "      <td>1.24</td>\n",
       "      <td>0.00</td>\n",
       "      <td>16.86</td>\n",
       "      <td>&lt;0.005</td>\n",
       "      <td>209.57</td>\n",
       "    </tr>\n",
       "    <tr>\n",
       "      <th>univ_count</th>\n",
       "      <td>0.09</td>\n",
       "      <td>1.09</td>\n",
       "      <td>0.02</td>\n",
       "      <td>0.06</td>\n",
       "      <td>0.12</td>\n",
       "      <td>1.06</td>\n",
       "      <td>1.13</td>\n",
       "      <td>0.00</td>\n",
       "      <td>5.90</td>\n",
       "      <td>&lt;0.005</td>\n",
       "      <td>28.01</td>\n",
       "    </tr>\n",
       "    <tr>\n",
       "      <th>univ_area</th>\n",
       "      <td>0.00</td>\n",
       "      <td>1.00</td>\n",
       "      <td>0.00</td>\n",
       "      <td>0.00</td>\n",
       "      <td>0.00</td>\n",
       "      <td>1.00</td>\n",
       "      <td>1.00</td>\n",
       "      <td>0.00</td>\n",
       "      <td>3.61</td>\n",
       "      <td>&lt;0.005</td>\n",
       "      <td>11.67</td>\n",
       "    </tr>\n",
       "    <tr>\n",
       "      <th>univ_pop</th>\n",
       "      <td>-0.00</td>\n",
       "      <td>1.00</td>\n",
       "      <td>0.00</td>\n",
       "      <td>-0.00</td>\n",
       "      <td>-0.00</td>\n",
       "      <td>1.00</td>\n",
       "      <td>1.00</td>\n",
       "      <td>0.00</td>\n",
       "      <td>-3.69</td>\n",
       "      <td>&lt;0.005</td>\n",
       "      <td>12.11</td>\n",
       "    </tr>\n",
       "  </tbody>\n",
       "</table><br><div>\n",
       "<style scoped>\n",
       "    .dataframe tbody tr th:only-of-type {\n",
       "        vertical-align: middle;\n",
       "    }\n",
       "\n",
       "    .dataframe tbody tr th {\n",
       "        vertical-align: top;\n",
       "    }\n",
       "\n",
       "    .dataframe thead th {\n",
       "        text-align: right;\n",
       "    }\n",
       "</style>\n",
       "<table border=\"1\" class=\"dataframe\">\n",
       "  <tbody>\n",
       "    <tr>\n",
       "      <th>Concordance</th>\n",
       "      <td>0.55</td>\n",
       "    </tr>\n",
       "    <tr>\n",
       "      <th>Partial AIC</th>\n",
       "      <td>781505.15</td>\n",
       "    </tr>\n",
       "    <tr>\n",
       "      <th>log-likelihood ratio test</th>\n",
       "      <td>1204.51 on 5 df</td>\n",
       "    </tr>\n",
       "    <tr>\n",
       "      <th>-log2(p) of ll-ratio test</th>\n",
       "      <td>855.43</td>\n",
       "    </tr>\n",
       "  </tbody>\n",
       "</table>\n",
       "</div>"
      ],
      "text/latex": [
       "\\begin{tabular}{lrrrrrrrrrrr}\n",
       " & coef & exp(coef) & se(coef) & coef lower 95% & coef upper 95% & exp(coef) lower 95% & exp(coef) upper 95% & cmp to & z & p & -log2(p) \\\\\n",
       "covariate &  &  &  &  &  &  &  &  &  &  &  \\\\\n",
       "franchise & -0.57 & 0.57 & 0.02 & -0.61 & -0.52 & 0.54 & 0.59 & 0.00 & -25.70 & 0.00 & 481.46 \\\\\n",
       "small_area & 0.19 & 1.21 & 0.01 & 0.17 & 0.22 & 1.19 & 1.24 & 0.00 & 16.86 & 0.00 & 209.57 \\\\\n",
       "univ_count & 0.09 & 1.09 & 0.02 & 0.06 & 0.12 & 1.06 & 1.13 & 0.00 & 5.90 & 0.00 & 28.01 \\\\\n",
       "univ_area & 0.00 & 1.00 & 0.00 & 0.00 & 0.00 & 1.00 & 1.00 & 0.00 & 3.61 & 0.00 & 11.67 \\\\\n",
       "univ_pop & -0.00 & 1.00 & 0.00 & -0.00 & -0.00 & 1.00 & 1.00 & 0.00 & -3.69 & 0.00 & 12.11 \\\\\n",
       "\\end{tabular}\n"
      ],
      "text/plain": [
       "<lifelines.CoxPHFitter: fitted with 57016 total observations, 17859 right-censored observations>\n",
       "             duration col = 'period_month'\n",
       "                event col = 'closed'\n",
       "      baseline estimation = breslow\n",
       "   number of observations = 57016\n",
       "number of events observed = 39157\n",
       "   partial log-likelihood = -390747.58\n",
       "         time fit was run = 2023-12-09 14:07:20 UTC\n",
       "\n",
       "---\n",
       "             coef  exp(coef)   se(coef)   coef lower 95%   coef upper 95%  exp(coef) lower 95%  exp(coef) upper 95%\n",
       "covariate                                                                                                          \n",
       "franchise   -0.57       0.57       0.02            -0.61            -0.52                 0.54                 0.59\n",
       "small_area   0.19       1.21       0.01             0.17             0.22                 1.19                 1.24\n",
       "univ_count   0.09       1.09       0.02             0.06             0.12                 1.06                 1.13\n",
       "univ_area    0.00       1.00       0.00             0.00             0.00                 1.00                 1.00\n",
       "univ_pop    -0.00       1.00       0.00            -0.00            -0.00                 1.00                 1.00\n",
       "\n",
       "             cmp to      z      p   -log2(p)\n",
       "covariate                                   \n",
       "franchise      0.00 -25.70 <0.005     481.46\n",
       "small_area     0.00  16.86 <0.005     209.57\n",
       "univ_count     0.00   5.90 <0.005      28.01\n",
       "univ_area      0.00   3.61 <0.005      11.67\n",
       "univ_pop       0.00  -3.69 <0.005      12.11\n",
       "---\n",
       "Concordance = 0.55\n",
       "Partial AIC = 781505.15\n",
       "log-likelihood ratio test = 1204.51 on 5 df\n",
       "-log2(p) of ll-ratio test = 855.43"
      ]
     },
     "metadata": {},
     "output_type": "display_data"
    }
   ],
   "source": [
    "#Cox 모델에 넣기\n",
    "from lifelines import CoxPHFitter\n",
    "cph = CoxPHFitter()\n",
    "cph.fit(data.drop(columns='area'), duration_col = 'period_month', event_col = 'closed')\n",
    "cph.print_summary()"
   ]
  },
  {
   "cell_type": "markdown",
   "id": "ea337b2b",
   "metadata": {},
   "source": [
    "- 모두 p-value가 0.05보다 작아서 유의하다. \n",
    "- 보유면적과 재학생_전체_계는 한 단위가 늘어나도 위험도가 높아지지 않는다.\n",
    "\n",
    "- 프랜차이즈의 Hazard Ratio = e^(-0.57) = 0.5655\n",
    "- 그러므로 프랜차이즈는 프랜차이즈가 아닌 카페보다 (1-0.5655) = 43% 폐업 확률이 낮다.\n",
    "\n",
    "- 소형면적의 Hazard Ratio = e^(-0.19) = 1.2092\n",
    "- 그러므로 소형면적의 카페는 소형면적이 아닌 카페보다 20% 폐업 확률이 높다.\n",
    "\n",
    "- 학교 수가 1 단위 늘어날 때 폐업 위험이 9% 증가한다. (1.09배)"
   ]
  },
  {
   "cell_type": "code",
   "execution_count": 21,
   "id": "22c8b123",
   "metadata": {},
   "outputs": [
    {
     "data": {
      "text/plain": [
       "<Axes: xlabel='log(HR) (95% CI)'>"
      ]
     },
     "execution_count": 21,
     "metadata": {},
     "output_type": "execute_result"
    },
    {
     "data": {
      "image/png": "[encoded data removed]",
      "text/plain": [
       "<Figure size 500x300 with 1 Axes>"
      ]
     },
     "metadata": {},
     "output_type": "display_data"
    }
   ],
   "source": [
    "#모델 결과 시각화\n",
    "plt.subplots(figsize = (5, 3))\n",
    "cph.plot()"
   ]
  },
  {
   "cell_type": "markdown",
   "id": "e7eaf0bc",
   "metadata": {},
   "source": [
    "### (2) 그룹별 데이터에 대하여 생존에 영향을 미치는 위험 요인들에 대한 분석"
   ]
  },
  {
   "cell_type": "markdown",
   "id": "a766a321",
   "metadata": {},
   "source": [
    "- 동별 대학교 개수를 나타내는 univ_count를 기준으로 그룹을 생성하여 그룹별로 프랜차이즈 여부와 소형면적 여부가 폐업 위험에 미치는 영향을 비교하고자 한다. "
   ]
  },
  {
   "cell_type": "code",
   "execution_count": 19,
   "id": "20b2e522",
   "metadata": {},
   "outputs": [
    {
     "data": {
      "text/html": [
       "<div>\n",
       "<style scoped>\n",
       "    .dataframe tbody tr th:only-of-type {\n",
       "        vertical-align: middle;\n",
       "    }\n",
       "\n",
       "    .dataframe tbody tr th {\n",
       "        vertical-align: top;\n",
       "    }\n",
       "\n",
       "    .dataframe thead th {\n",
       "        text-align: right;\n",
       "    }\n",
       "</style>\n",
       "<table border=\"1\" class=\"dataframe\">\n",
       "  <tbody>\n",
       "    <tr>\n",
       "      <th>model</th>\n",
       "      <td>lifelines.CoxPHFitter</td>\n",
       "    </tr>\n",
       "    <tr>\n",
       "      <th>duration col</th>\n",
       "      <td>'period_month'</td>\n",
       "    </tr>\n",
       "    <tr>\n",
       "      <th>event col</th>\n",
       "      <td>'closed'</td>\n",
       "    </tr>\n",
       "    <tr>\n",
       "      <th>baseline estimation</th>\n",
       "      <td>breslow</td>\n",
       "    </tr>\n",
       "    <tr>\n",
       "      <th>number of observations</th>\n",
       "      <td>45655</td>\n",
       "    </tr>\n",
       "    <tr>\n",
       "      <th>number of events observed</th>\n",
       "      <td>31295</td>\n",
       "    </tr>\n",
       "    <tr>\n",
       "      <th>partial log-likelihood</th>\n",
       "      <td>-305477.38</td>\n",
       "    </tr>\n",
       "    <tr>\n",
       "      <th>time fit was run</th>\n",
       "      <td>2023-12-09 14:08:06 UTC</td>\n",
       "    </tr>\n",
       "  </tbody>\n",
       "</table>\n",
       "</div><table border=\"1\" class=\"dataframe\">\n",
       "  <thead>\n",
       "    <tr style=\"text-align: right;\">\n",
       "      <th style=\"min-width: 12px;\"></th>\n",
       "      <th style=\"min-width: 12px;\">coef</th>\n",
       "      <th style=\"min-width: 12px;\">exp(coef)</th>\n",
       "      <th style=\"min-width: 12px;\">se(coef)</th>\n",
       "      <th style=\"min-width: 12px;\">coef lower 95%</th>\n",
       "      <th style=\"min-width: 12px;\">coef upper 95%</th>\n",
       "      <th style=\"min-width: 12px;\">exp(coef) lower 95%</th>\n",
       "      <th style=\"min-width: 12px;\">exp(coef) upper 95%</th>\n",
       "      <th style=\"min-width: 12px;\">cmp to</th>\n",
       "      <th style=\"min-width: 12px;\">z</th>\n",
       "      <th style=\"min-width: 12px;\">p</th>\n",
       "      <th style=\"min-width: 12px;\">-log2(p)</th>\n",
       "    </tr>\n",
       "  </thead>\n",
       "  <tbody>\n",
       "    <tr>\n",
       "      <th>small_area</th>\n",
       "      <td>0.21</td>\n",
       "      <td>1.23</td>\n",
       "      <td>0.01</td>\n",
       "      <td>0.18</td>\n",
       "      <td>0.23</td>\n",
       "      <td>1.20</td>\n",
       "      <td>1.26</td>\n",
       "      <td>0.00</td>\n",
       "      <td>16.05</td>\n",
       "      <td>&lt;0.005</td>\n",
       "      <td>190.19</td>\n",
       "    </tr>\n",
       "    <tr>\n",
       "      <th>franchise</th>\n",
       "      <td>-0.53</td>\n",
       "      <td>0.59</td>\n",
       "      <td>0.02</td>\n",
       "      <td>-0.58</td>\n",
       "      <td>-0.49</td>\n",
       "      <td>0.56</td>\n",
       "      <td>0.61</td>\n",
       "      <td>0.00</td>\n",
       "      <td>-21.61</td>\n",
       "      <td>&lt;0.005</td>\n",
       "      <td>341.52</td>\n",
       "    </tr>\n",
       "  </tbody>\n",
       "</table><br><div>\n",
       "<style scoped>\n",
       "    .dataframe tbody tr th:only-of-type {\n",
       "        vertical-align: middle;\n",
       "    }\n",
       "\n",
       "    .dataframe tbody tr th {\n",
       "        vertical-align: top;\n",
       "    }\n",
       "\n",
       "    .dataframe thead th {\n",
       "        text-align: right;\n",
       "    }\n",
       "</style>\n",
       "<table border=\"1\" class=\"dataframe\">\n",
       "  <tbody>\n",
       "    <tr>\n",
       "      <th>Concordance</th>\n",
       "      <td>0.55</td>\n",
       "    </tr>\n",
       "    <tr>\n",
       "      <th>Partial AIC</th>\n",
       "      <td>610958.76</td>\n",
       "    </tr>\n",
       "    <tr>\n",
       "      <th>log-likelihood ratio test</th>\n",
       "      <td>876.37 on 2 df</td>\n",
       "    </tr>\n",
       "    <tr>\n",
       "      <th>-log2(p) of ll-ratio test</th>\n",
       "      <td>632.17</td>\n",
       "    </tr>\n",
       "  </tbody>\n",
       "</table>\n",
       "</div>"
      ],
      "text/latex": [
       "\\begin{tabular}{lrrrrrrrrrrr}\n",
       " & coef & exp(coef) & se(coef) & coef lower 95% & coef upper 95% & exp(coef) lower 95% & exp(coef) upper 95% & cmp to & z & p & -log2(p) \\\\\n",
       "covariate &  &  &  &  &  &  &  &  &  &  &  \\\\\n",
       "small_area & 0.21 & 1.23 & 0.01 & 0.18 & 0.23 & 1.20 & 1.26 & 0.00 & 16.05 & 0.00 & 190.19 \\\\\n",
       "franchise & -0.53 & 0.59 & 0.02 & -0.58 & -0.49 & 0.56 & 0.61 & 0.00 & -21.61 & 0.00 & 341.52 \\\\\n",
       "\\end{tabular}\n"
      ],
      "text/plain": [
       "<lifelines.CoxPHFitter: fitted with 45655 total observations, 14360 right-censored observations>\n",
       "             duration col = 'period_month'\n",
       "                event col = 'closed'\n",
       "      baseline estimation = breslow\n",
       "   number of observations = 45655\n",
       "number of events observed = 31295\n",
       "   partial log-likelihood = -305477.38\n",
       "         time fit was run = 2023-12-09 14:08:06 UTC\n",
       "\n",
       "---\n",
       "             coef  exp(coef)   se(coef)   coef lower 95%   coef upper 95%  exp(coef) lower 95%  exp(coef) upper 95%\n",
       "covariate                                                                                                          \n",
       "small_area   0.21       1.23       0.01             0.18             0.23                 1.20                 1.26\n",
       "franchise   -0.53       0.59       0.02            -0.58            -0.49                 0.56                 0.61\n",
       "\n",
       "             cmp to      z      p   -log2(p)\n",
       "covariate                                   \n",
       "small_area     0.00  16.05 <0.005     190.19\n",
       "franchise      0.00 -21.61 <0.005     341.52\n",
       "---\n",
       "Concordance = 0.55\n",
       "Partial AIC = 610958.76\n",
       "log-likelihood ratio test = 876.37 on 2 df\n",
       "-log2(p) of ll-ratio test = 632.17"
      ]
     },
     "metadata": {},
     "output_type": "display_data"
    }
   ],
   "source": [
    "# univ_count = 0 인 그룹 분석\n",
    "data_0 = data[data['univ_count'] == 0]\n",
    "data_0 = data_0[['small_area', 'franchise', 'period_month', 'closed']]\n",
    "cph1 = CoxPHFitter()\n",
    "cph1.fit(data_0, duration_col = 'period_month', event_col = 'closed')\n",
    "cph1.print_summary()"
   ]
  },
  {
   "cell_type": "code",
   "execution_count": 24,
   "id": "f7a95d29",
   "metadata": {},
   "outputs": [
    {
     "data": {
      "text/html": [
       "<div>\n",
       "<style scoped>\n",
       "    .dataframe tbody tr th:only-of-type {\n",
       "        vertical-align: middle;\n",
       "    }\n",
       "\n",
       "    .dataframe tbody tr th {\n",
       "        vertical-align: top;\n",
       "    }\n",
       "\n",
       "    .dataframe thead th {\n",
       "        text-align: right;\n",
       "    }\n",
       "</style>\n",
       "<table border=\"1\" class=\"dataframe\">\n",
       "  <tbody>\n",
       "    <tr>\n",
       "      <th>model</th>\n",
       "      <td>lifelines.CoxPHFitter</td>\n",
       "    </tr>\n",
       "    <tr>\n",
       "      <th>duration col</th>\n",
       "      <td>'period_month'</td>\n",
       "    </tr>\n",
       "    <tr>\n",
       "      <th>event col</th>\n",
       "      <td>'closed'</td>\n",
       "    </tr>\n",
       "    <tr>\n",
       "      <th>baseline estimation</th>\n",
       "      <td>breslow</td>\n",
       "    </tr>\n",
       "    <tr>\n",
       "      <th>number of observations</th>\n",
       "      <td>9871</td>\n",
       "    </tr>\n",
       "    <tr>\n",
       "      <th>number of events observed</th>\n",
       "      <td>6913</td>\n",
       "    </tr>\n",
       "    <tr>\n",
       "      <th>partial log-likelihood</th>\n",
       "      <td>-56732.09</td>\n",
       "    </tr>\n",
       "    <tr>\n",
       "      <th>time fit was run</th>\n",
       "      <td>2023-12-09 14:09:01 UTC</td>\n",
       "    </tr>\n",
       "  </tbody>\n",
       "</table>\n",
       "</div><table border=\"1\" class=\"dataframe\">\n",
       "  <thead>\n",
       "    <tr style=\"text-align: right;\">\n",
       "      <th style=\"min-width: 12px;\"></th>\n",
       "      <th style=\"min-width: 12px;\">coef</th>\n",
       "      <th style=\"min-width: 12px;\">exp(coef)</th>\n",
       "      <th style=\"min-width: 12px;\">se(coef)</th>\n",
       "      <th style=\"min-width: 12px;\">coef lower 95%</th>\n",
       "      <th style=\"min-width: 12px;\">coef upper 95%</th>\n",
       "      <th style=\"min-width: 12px;\">exp(coef) lower 95%</th>\n",
       "      <th style=\"min-width: 12px;\">exp(coef) upper 95%</th>\n",
       "      <th style=\"min-width: 12px;\">cmp to</th>\n",
       "      <th style=\"min-width: 12px;\">z</th>\n",
       "      <th style=\"min-width: 12px;\">p</th>\n",
       "      <th style=\"min-width: 12px;\">-log2(p)</th>\n",
       "    </tr>\n",
       "  </thead>\n",
       "  <tbody>\n",
       "    <tr>\n",
       "      <th>small_area</th>\n",
       "      <td>0.14</td>\n",
       "      <td>1.16</td>\n",
       "      <td>0.03</td>\n",
       "      <td>0.09</td>\n",
       "      <td>0.20</td>\n",
       "      <td>1.10</td>\n",
       "      <td>1.22</td>\n",
       "      <td>0.00</td>\n",
       "      <td>5.36</td>\n",
       "      <td>&lt;0.005</td>\n",
       "      <td>23.50</td>\n",
       "    </tr>\n",
       "    <tr>\n",
       "      <th>franchise</th>\n",
       "      <td>-0.69</td>\n",
       "      <td>0.50</td>\n",
       "      <td>0.05</td>\n",
       "      <td>-0.80</td>\n",
       "      <td>-0.59</td>\n",
       "      <td>0.45</td>\n",
       "      <td>0.55</td>\n",
       "      <td>0.00</td>\n",
       "      <td>-13.23</td>\n",
       "      <td>&lt;0.005</td>\n",
       "      <td>130.41</td>\n",
       "    </tr>\n",
       "  </tbody>\n",
       "</table><br><div>\n",
       "<style scoped>\n",
       "    .dataframe tbody tr th:only-of-type {\n",
       "        vertical-align: middle;\n",
       "    }\n",
       "\n",
       "    .dataframe tbody tr th {\n",
       "        vertical-align: top;\n",
       "    }\n",
       "\n",
       "    .dataframe thead th {\n",
       "        text-align: right;\n",
       "    }\n",
       "</style>\n",
       "<table border=\"1\" class=\"dataframe\">\n",
       "  <tbody>\n",
       "    <tr>\n",
       "      <th>Concordance</th>\n",
       "      <td>0.56</td>\n",
       "    </tr>\n",
       "    <tr>\n",
       "      <th>Partial AIC</th>\n",
       "      <td>113468.18</td>\n",
       "    </tr>\n",
       "    <tr>\n",
       "      <th>log-likelihood ratio test</th>\n",
       "      <td>262.64 on 2 df</td>\n",
       "    </tr>\n",
       "    <tr>\n",
       "      <th>-log2(p) of ll-ratio test</th>\n",
       "      <td>189.45</td>\n",
       "    </tr>\n",
       "  </tbody>\n",
       "</table>\n",
       "</div>"
      ],
      "text/latex": [
       "\\begin{tabular}{lrrrrrrrrrrr}\n",
       " & coef & exp(coef) & se(coef) & coef lower 95% & coef upper 95% & exp(coef) lower 95% & exp(coef) upper 95% & cmp to & z & p & -log2(p) \\\\\n",
       "covariate &  &  &  &  &  &  &  &  &  &  &  \\\\\n",
       "small_area & 0.14 & 1.16 & 0.03 & 0.09 & 0.20 & 1.10 & 1.22 & 0.00 & 5.36 & 0.00 & 23.50 \\\\\n",
       "franchise & -0.69 & 0.50 & 0.05 & -0.80 & -0.59 & 0.45 & 0.55 & 0.00 & -13.23 & 0.00 & 130.41 \\\\\n",
       "\\end{tabular}\n"
      ],
      "text/plain": [
       "<lifelines.CoxPHFitter: fitted with 9871 total observations, 2958 right-censored observations>\n",
       "             duration col = 'period_month'\n",
       "                event col = 'closed'\n",
       "      baseline estimation = breslow\n",
       "   number of observations = 9871\n",
       "number of events observed = 6913\n",
       "   partial log-likelihood = -56732.09\n",
       "         time fit was run = 2023-12-09 14:09:01 UTC\n",
       "\n",
       "---\n",
       "             coef  exp(coef)   se(coef)   coef lower 95%   coef upper 95%  exp(coef) lower 95%  exp(coef) upper 95%\n",
       "covariate                                                                                                          \n",
       "small_area   0.14       1.16       0.03             0.09             0.20                 1.10                 1.22\n",
       "franchise   -0.69       0.50       0.05            -0.80            -0.59                 0.45                 0.55\n",
       "\n",
       "             cmp to      z      p   -log2(p)\n",
       "covariate                                   \n",
       "small_area     0.00   5.36 <0.005      23.50\n",
       "franchise      0.00 -13.23 <0.005     130.41\n",
       "---\n",
       "Concordance = 0.56\n",
       "Partial AIC = 113468.18\n",
       "log-likelihood ratio test = 262.64 on 2 df\n",
       "-log2(p) of ll-ratio test = 189.45"
      ]
     },
     "metadata": {},
     "output_type": "display_data"
    }
   ],
   "source": [
    "# univ_count = 1 인 그룹 분석\n",
    "data_1 = data[data['univ_count'] == 1]\n",
    "data_1 = data_1[['small_area', 'franchise', 'period_month', 'closed']]\n",
    "cph2 = CoxPHFitter()\n",
    "cph2.fit(data_1, duration_col = 'period_month', event_col = 'closed')\n",
    "cph2.print_summary()"
   ]
  },
  {
   "cell_type": "code",
   "execution_count": 25,
   "id": "140f6421",
   "metadata": {},
   "outputs": [
    {
     "data": {
      "text/html": [
       "<div>\n",
       "<style scoped>\n",
       "    .dataframe tbody tr th:only-of-type {\n",
       "        vertical-align: middle;\n",
       "    }\n",
       "\n",
       "    .dataframe tbody tr th {\n",
       "        vertical-align: top;\n",
       "    }\n",
       "\n",
       "    .dataframe thead th {\n",
       "        text-align: right;\n",
       "    }\n",
       "</style>\n",
       "<table border=\"1\" class=\"dataframe\">\n",
       "  <tbody>\n",
       "    <tr>\n",
       "      <th>model</th>\n",
       "      <td>lifelines.CoxPHFitter</td>\n",
       "    </tr>\n",
       "    <tr>\n",
       "      <th>duration col</th>\n",
       "      <td>'period_month'</td>\n",
       "    </tr>\n",
       "    <tr>\n",
       "      <th>event col</th>\n",
       "      <td>'closed'</td>\n",
       "    </tr>\n",
       "    <tr>\n",
       "      <th>baseline estimation</th>\n",
       "      <td>breslow</td>\n",
       "    </tr>\n",
       "    <tr>\n",
       "      <th>number of observations</th>\n",
       "      <td>1121</td>\n",
       "    </tr>\n",
       "    <tr>\n",
       "      <th>number of events observed</th>\n",
       "      <td>714</td>\n",
       "    </tr>\n",
       "    <tr>\n",
       "      <th>partial log-likelihood</th>\n",
       "      <td>-4335.80</td>\n",
       "    </tr>\n",
       "    <tr>\n",
       "      <th>time fit was run</th>\n",
       "      <td>2023-12-09 14:09:06 UTC</td>\n",
       "    </tr>\n",
       "  </tbody>\n",
       "</table>\n",
       "</div><table border=\"1\" class=\"dataframe\">\n",
       "  <thead>\n",
       "    <tr style=\"text-align: right;\">\n",
       "      <th style=\"min-width: 12px;\"></th>\n",
       "      <th style=\"min-width: 12px;\">coef</th>\n",
       "      <th style=\"min-width: 12px;\">exp(coef)</th>\n",
       "      <th style=\"min-width: 12px;\">se(coef)</th>\n",
       "      <th style=\"min-width: 12px;\">coef lower 95%</th>\n",
       "      <th style=\"min-width: 12px;\">coef upper 95%</th>\n",
       "      <th style=\"min-width: 12px;\">exp(coef) lower 95%</th>\n",
       "      <th style=\"min-width: 12px;\">exp(coef) upper 95%</th>\n",
       "      <th style=\"min-width: 12px;\">cmp to</th>\n",
       "      <th style=\"min-width: 12px;\">z</th>\n",
       "      <th style=\"min-width: 12px;\">p</th>\n",
       "      <th style=\"min-width: 12px;\">-log2(p)</th>\n",
       "    </tr>\n",
       "  </thead>\n",
       "  <tbody>\n",
       "    <tr>\n",
       "      <th>small_area</th>\n",
       "      <td>-0.01</td>\n",
       "      <td>0.99</td>\n",
       "      <td>0.08</td>\n",
       "      <td>-0.18</td>\n",
       "      <td>0.15</td>\n",
       "      <td>0.84</td>\n",
       "      <td>1.16</td>\n",
       "      <td>0.00</td>\n",
       "      <td>-0.18</td>\n",
       "      <td>0.86</td>\n",
       "      <td>0.22</td>\n",
       "    </tr>\n",
       "    <tr>\n",
       "      <th>franchise</th>\n",
       "      <td>-0.79</td>\n",
       "      <td>0.45</td>\n",
       "      <td>0.16</td>\n",
       "      <td>-1.10</td>\n",
       "      <td>-0.48</td>\n",
       "      <td>0.33</td>\n",
       "      <td>0.62</td>\n",
       "      <td>0.00</td>\n",
       "      <td>-5.04</td>\n",
       "      <td>&lt;0.005</td>\n",
       "      <td>21.05</td>\n",
       "    </tr>\n",
       "  </tbody>\n",
       "</table><br><div>\n",
       "<style scoped>\n",
       "    .dataframe tbody tr th:only-of-type {\n",
       "        vertical-align: middle;\n",
       "    }\n",
       "\n",
       "    .dataframe tbody tr th {\n",
       "        vertical-align: top;\n",
       "    }\n",
       "\n",
       "    .dataframe thead th {\n",
       "        text-align: right;\n",
       "    }\n",
       "</style>\n",
       "<table border=\"1\" class=\"dataframe\">\n",
       "  <tbody>\n",
       "    <tr>\n",
       "      <th>Concordance</th>\n",
       "      <td>0.54</td>\n",
       "    </tr>\n",
       "    <tr>\n",
       "      <th>Partial AIC</th>\n",
       "      <td>8675.61</td>\n",
       "    </tr>\n",
       "    <tr>\n",
       "      <th>log-likelihood ratio test</th>\n",
       "      <td>32.17 on 2 df</td>\n",
       "    </tr>\n",
       "    <tr>\n",
       "      <th>-log2(p) of ll-ratio test</th>\n",
       "      <td>23.21</td>\n",
       "    </tr>\n",
       "  </tbody>\n",
       "</table>\n",
       "</div>"
      ],
      "text/latex": [
       "\\begin{tabular}{lrrrrrrrrrrr}\n",
       " & coef & exp(coef) & se(coef) & coef lower 95% & coef upper 95% & exp(coef) lower 95% & exp(coef) upper 95% & cmp to & z & p & -log2(p) \\\\\n",
       "covariate &  &  &  &  &  &  &  &  &  &  &  \\\\\n",
       "small_area & -0.01 & 0.99 & 0.08 & -0.18 & 0.15 & 0.84 & 1.16 & 0.00 & -0.18 & 0.86 & 0.22 \\\\\n",
       "franchise & -0.79 & 0.45 & 0.16 & -1.10 & -0.48 & 0.33 & 0.62 & 0.00 & -5.04 & 0.00 & 21.05 \\\\\n",
       "\\end{tabular}\n"
      ],
      "text/plain": [
       "<lifelines.CoxPHFitter: fitted with 1121 total observations, 407 right-censored observations>\n",
       "             duration col = 'period_month'\n",
       "                event col = 'closed'\n",
       "      baseline estimation = breslow\n",
       "   number of observations = 1121\n",
       "number of events observed = 714\n",
       "   partial log-likelihood = -4335.80\n",
       "         time fit was run = 2023-12-09 14:09:06 UTC\n",
       "\n",
       "---\n",
       "             coef  exp(coef)   se(coef)   coef lower 95%   coef upper 95%  exp(coef) lower 95%  exp(coef) upper 95%\n",
       "covariate                                                                                                          \n",
       "small_area  -0.01       0.99       0.08            -0.18             0.15                 0.84                 1.16\n",
       "franchise   -0.79       0.45       0.16            -1.10            -0.48                 0.33                 0.62\n",
       "\n",
       "             cmp to     z      p   -log2(p)\n",
       "covariate                                  \n",
       "small_area     0.00 -0.18   0.86       0.22\n",
       "franchise      0.00 -5.04 <0.005      21.05\n",
       "---\n",
       "Concordance = 0.54\n",
       "Partial AIC = 8675.61\n",
       "log-likelihood ratio test = 32.17 on 2 df\n",
       "-log2(p) of ll-ratio test = 23.21"
      ]
     },
     "metadata": {},
     "output_type": "display_data"
    }
   ],
   "source": [
    "# univ_count = 2 인 그룹 분석\n",
    "data_2 = data[data['univ_count'] == 2]\n",
    "data_2 = data_2[['small_area', 'franchise', 'period_month', 'closed']]\n",
    "cph3 = CoxPHFitter()\n",
    "cph3.fit(data_2, duration_col = 'period_month', event_col = 'closed')\n",
    "cph3.print_summary()"
   ]
  },
  {
   "cell_type": "code",
   "execution_count": 30,
   "id": "6f6bf55d",
   "metadata": {},
   "outputs": [
    {
     "data": {
      "text/html": [
       "<div>\n",
       "<style scoped>\n",
       "    .dataframe tbody tr th:only-of-type {\n",
       "        vertical-align: middle;\n",
       "    }\n",
       "\n",
       "    .dataframe tbody tr th {\n",
       "        vertical-align: top;\n",
       "    }\n",
       "\n",
       "    .dataframe thead th {\n",
       "        text-align: right;\n",
       "    }\n",
       "</style>\n",
       "<table border=\"1\" class=\"dataframe\">\n",
       "  <tbody>\n",
       "    <tr>\n",
       "      <th>model</th>\n",
       "      <td>lifelines.CoxPHFitter</td>\n",
       "    </tr>\n",
       "    <tr>\n",
       "      <th>duration col</th>\n",
       "      <td>'period_month'</td>\n",
       "    </tr>\n",
       "    <tr>\n",
       "      <th>event col</th>\n",
       "      <td>'closed'</td>\n",
       "    </tr>\n",
       "    <tr>\n",
       "      <th>baseline estimation</th>\n",
       "      <td>breslow</td>\n",
       "    </tr>\n",
       "    <tr>\n",
       "      <th>number of observations</th>\n",
       "      <td>369</td>\n",
       "    </tr>\n",
       "    <tr>\n",
       "      <th>number of events observed</th>\n",
       "      <td>235</td>\n",
       "    </tr>\n",
       "    <tr>\n",
       "      <th>partial log-likelihood</th>\n",
       "      <td>-1148.48</td>\n",
       "    </tr>\n",
       "    <tr>\n",
       "      <th>time fit was run</th>\n",
       "      <td>2023-12-09 14:45:55 UTC</td>\n",
       "    </tr>\n",
       "  </tbody>\n",
       "</table>\n",
       "</div><table border=\"1\" class=\"dataframe\">\n",
       "  <thead>\n",
       "    <tr style=\"text-align: right;\">\n",
       "      <th style=\"min-width: 12px;\"></th>\n",
       "      <th style=\"min-width: 12px;\">coef</th>\n",
       "      <th style=\"min-width: 12px;\">exp(coef)</th>\n",
       "      <th style=\"min-width: 12px;\">se(coef)</th>\n",
       "      <th style=\"min-width: 12px;\">coef lower 95%</th>\n",
       "      <th style=\"min-width: 12px;\">coef upper 95%</th>\n",
       "      <th style=\"min-width: 12px;\">exp(coef) lower 95%</th>\n",
       "      <th style=\"min-width: 12px;\">exp(coef) upper 95%</th>\n",
       "      <th style=\"min-width: 12px;\">cmp to</th>\n",
       "      <th style=\"min-width: 12px;\">z</th>\n",
       "      <th style=\"min-width: 12px;\">p</th>\n",
       "      <th style=\"min-width: 12px;\">-log2(p)</th>\n",
       "    </tr>\n",
       "  </thead>\n",
       "  <tbody>\n",
       "    <tr>\n",
       "      <th>small_area</th>\n",
       "      <td>0.36</td>\n",
       "      <td>1.43</td>\n",
       "      <td>0.14</td>\n",
       "      <td>0.07</td>\n",
       "      <td>0.64</td>\n",
       "      <td>1.08</td>\n",
       "      <td>1.90</td>\n",
       "      <td>0.00</td>\n",
       "      <td>2.48</td>\n",
       "      <td>0.01</td>\n",
       "      <td>6.24</td>\n",
       "    </tr>\n",
       "    <tr>\n",
       "      <th>franchise</th>\n",
       "      <td>-0.40</td>\n",
       "      <td>0.67</td>\n",
       "      <td>0.29</td>\n",
       "      <td>-0.97</td>\n",
       "      <td>0.17</td>\n",
       "      <td>0.38</td>\n",
       "      <td>1.18</td>\n",
       "      <td>0.00</td>\n",
       "      <td>-1.39</td>\n",
       "      <td>0.17</td>\n",
       "      <td>2.59</td>\n",
       "    </tr>\n",
       "  </tbody>\n",
       "</table><br><div>\n",
       "<style scoped>\n",
       "    .dataframe tbody tr th:only-of-type {\n",
       "        vertical-align: middle;\n",
       "    }\n",
       "\n",
       "    .dataframe tbody tr th {\n",
       "        vertical-align: top;\n",
       "    }\n",
       "\n",
       "    .dataframe thead th {\n",
       "        text-align: right;\n",
       "    }\n",
       "</style>\n",
       "<table border=\"1\" class=\"dataframe\">\n",
       "  <tbody>\n",
       "    <tr>\n",
       "      <th>Concordance</th>\n",
       "      <td>0.57</td>\n",
       "    </tr>\n",
       "    <tr>\n",
       "      <th>Partial AIC</th>\n",
       "      <td>2300.96</td>\n",
       "    </tr>\n",
       "    <tr>\n",
       "      <th>log-likelihood ratio test</th>\n",
       "      <td>9.62 on 2 df</td>\n",
       "    </tr>\n",
       "    <tr>\n",
       "      <th>-log2(p) of ll-ratio test</th>\n",
       "      <td>6.94</td>\n",
       "    </tr>\n",
       "  </tbody>\n",
       "</table>\n",
       "</div>"
      ],
      "text/latex": [
       "\\begin{tabular}{lrrrrrrrrrrr}\n",
       " & coef & exp(coef) & se(coef) & coef lower 95% & coef upper 95% & exp(coef) lower 95% & exp(coef) upper 95% & cmp to & z & p & -log2(p) \\\\\n",
       "covariate &  &  &  &  &  &  &  &  &  &  &  \\\\\n",
       "small_area & 0.36 & 1.43 & 0.14 & 0.07 & 0.64 & 1.08 & 1.90 & 0.00 & 2.48 & 0.01 & 6.24 \\\\\n",
       "franchise & -0.40 & 0.67 & 0.29 & -0.97 & 0.17 & 0.38 & 1.18 & 0.00 & -1.39 & 0.17 & 2.59 \\\\\n",
       "\\end{tabular}\n"
      ],
      "text/plain": [
       "<lifelines.CoxPHFitter: fitted with 369 total observations, 134 right-censored observations>\n",
       "             duration col = 'period_month'\n",
       "                event col = 'closed'\n",
       "      baseline estimation = breslow\n",
       "   number of observations = 369\n",
       "number of events observed = 235\n",
       "   partial log-likelihood = -1148.48\n",
       "         time fit was run = 2023-12-09 14:45:55 UTC\n",
       "\n",
       "---\n",
       "             coef  exp(coef)   se(coef)   coef lower 95%   coef upper 95%  exp(coef) lower 95%  exp(coef) upper 95%\n",
       "covariate                                                                                                          \n",
       "small_area   0.36       1.43       0.14             0.07             0.64                 1.08                 1.90\n",
       "franchise   -0.40       0.67       0.29            -0.97             0.17                 0.38                 1.18\n",
       "\n",
       "             cmp to     z    p   -log2(p)\n",
       "covariate                                \n",
       "small_area     0.00  2.48 0.01       6.24\n",
       "franchise      0.00 -1.39 0.17       2.59\n",
       "---\n",
       "Concordance = 0.57\n",
       "Partial AIC = 2300.96\n",
       "log-likelihood ratio test = 9.62 on 2 df\n",
       "-log2(p) of ll-ratio test = 6.94"
      ]
     },
     "metadata": {},
     "output_type": "display_data"
    }
   ],
   "source": [
    "# univ_count = 3 인 그룹 분석\n",
    "data_3 = data[data['univ_count'] == 3]\n",
    "data_3 = data_3[['small_area', 'franchise', 'period_month', 'closed']]\n",
    "cph4 = CoxPHFitter()\n",
    "cph4.fit(data_3, duration_col = 'period_month', event_col = 'closed')\n",
    "cph4.print_summary()"
   ]
  }
 ],
 "metadata": {
  "kernelspec": {
   "display_name": "Python 3 (ipykernel)",
   "language": "python",
   "name": "python3"
  },
  "language_info": {
   "codemirror_mode": {
    "name": "ipython",
    "version": 3
   },
   "file_extension": ".py",
   "mimetype": "text/x-python",
   "name": "python",
   "nbconvert_exporter": "python",
   "pygments_lexer": "ipython3",
   "version": "3.11.5"
  }
 },
 "nbformat": 4,
 "nbformat_minor": 5
}
