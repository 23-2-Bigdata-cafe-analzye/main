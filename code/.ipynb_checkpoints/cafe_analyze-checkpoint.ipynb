{
 "cells": [
  {
   "cell_type": "code",
   "execution_count": 208,
   "id": "31a50a6d",
   "metadata": {},
   "outputs": [],
   "source": [
    "#필요 라이브러리 import\n",
    "import numpy as np\n",
    "import pandas as pd\n",
    "from lifelines import KaplanMeierFitter\n",
    "import matplotlib.pyplot as plt"
   ]
  },
  {
   "cell_type": "markdown",
   "id": "1e13d8fc",
   "metadata": {},
   "source": [
    "# 카페 폐업률 생존분석\n",
    "\n",
    "1. Kaplan-Mieier 생존곡선(비모수적)\n",
    "2. Cox 비례위험모형(반모수적)"
   ]
  },
  {
   "cell_type": "markdown",
   "id": "cc6ab0cf",
   "metadata": {},
   "source": [
    "## 1. Kaplan-Meier 생존 곡선"
   ]
  },
  {
   "cell_type": "code",
   "execution_count": 209,
   "id": "e246f6fa",
   "metadata": {},
   "outputs": [
    {
     "data": {
      "text/html": [
       "<div>\n",
       "<style scoped>\n",
       "    .dataframe tbody tr th:only-of-type {\n",
       "        vertical-align: middle;\n",
       "    }\n",
       "\n",
       "    .dataframe tbody tr th {\n",
       "        vertical-align: top;\n",
       "    }\n",
       "\n",
       "    .dataframe thead th {\n",
       "        text-align: right;\n",
       "    }\n",
       "</style>\n",
       "<table border=\"1\" class=\"dataframe\">\n",
       "  <thead>\n",
       "    <tr style=\"text-align: right;\">\n",
       "      <th></th>\n",
       "      <th>area</th>\n",
       "      <th>franchise</th>\n",
       "      <th>small_area</th>\n",
       "      <th>closed</th>\n",
       "      <th>period_month</th>\n",
       "      <th>univ_count</th>\n",
       "      <th>univ_area</th>\n",
       "      <th>univ_pop</th>\n",
       "    </tr>\n",
       "  </thead>\n",
       "  <tbody>\n",
       "    <tr>\n",
       "      <th>0</th>\n",
       "      <td>53.00</td>\n",
       "      <td>0</td>\n",
       "      <td>0</td>\n",
       "      <td>1</td>\n",
       "      <td>0</td>\n",
       "      <td>3.0</td>\n",
       "      <td>1049479.0</td>\n",
       "      <td>22578.0</td>\n",
       "    </tr>\n",
       "    <tr>\n",
       "      <th>1</th>\n",
       "      <td>6.60</td>\n",
       "      <td>0</td>\n",
       "      <td>1</td>\n",
       "      <td>1</td>\n",
       "      <td>0</td>\n",
       "      <td>0.0</td>\n",
       "      <td>0.0</td>\n",
       "      <td>0.0</td>\n",
       "    </tr>\n",
       "    <tr>\n",
       "      <th>2</th>\n",
       "      <td>36.00</td>\n",
       "      <td>0</td>\n",
       "      <td>0</td>\n",
       "      <td>1</td>\n",
       "      <td>0</td>\n",
       "      <td>0.0</td>\n",
       "      <td>0.0</td>\n",
       "      <td>0.0</td>\n",
       "    </tr>\n",
       "    <tr>\n",
       "      <th>3</th>\n",
       "      <td>12.23</td>\n",
       "      <td>0</td>\n",
       "      <td>1</td>\n",
       "      <td>1</td>\n",
       "      <td>0</td>\n",
       "      <td>0.0</td>\n",
       "      <td>0.0</td>\n",
       "      <td>0.0</td>\n",
       "    </tr>\n",
       "    <tr>\n",
       "      <th>4</th>\n",
       "      <td>56.00</td>\n",
       "      <td>0</td>\n",
       "      <td>0</td>\n",
       "      <td>1</td>\n",
       "      <td>1</td>\n",
       "      <td>0.0</td>\n",
       "      <td>0.0</td>\n",
       "      <td>0.0</td>\n",
       "    </tr>\n",
       "    <tr>\n",
       "      <th>...</th>\n",
       "      <td>...</td>\n",
       "      <td>...</td>\n",
       "      <td>...</td>\n",
       "      <td>...</td>\n",
       "      <td>...</td>\n",
       "      <td>...</td>\n",
       "      <td>...</td>\n",
       "      <td>...</td>\n",
       "    </tr>\n",
       "    <tr>\n",
       "      <th>57012</th>\n",
       "      <td>26.70</td>\n",
       "      <td>1</td>\n",
       "      <td>1</td>\n",
       "      <td>0</td>\n",
       "      <td>227</td>\n",
       "      <td>1.0</td>\n",
       "      <td>68334.0</td>\n",
       "      <td>10348.0</td>\n",
       "    </tr>\n",
       "    <tr>\n",
       "      <th>57013</th>\n",
       "      <td>152.50</td>\n",
       "      <td>1</td>\n",
       "      <td>0</td>\n",
       "      <td>0</td>\n",
       "      <td>153</td>\n",
       "      <td>0.0</td>\n",
       "      <td>0.0</td>\n",
       "      <td>0.0</td>\n",
       "    </tr>\n",
       "    <tr>\n",
       "      <th>57014</th>\n",
       "      <td>8.25</td>\n",
       "      <td>1</td>\n",
       "      <td>1</td>\n",
       "      <td>0</td>\n",
       "      <td>154</td>\n",
       "      <td>0.0</td>\n",
       "      <td>0.0</td>\n",
       "      <td>0.0</td>\n",
       "    </tr>\n",
       "    <tr>\n",
       "      <th>57015</th>\n",
       "      <td>169.60</td>\n",
       "      <td>1</td>\n",
       "      <td>0</td>\n",
       "      <td>0</td>\n",
       "      <td>298</td>\n",
       "      <td>0.0</td>\n",
       "      <td>0.0</td>\n",
       "      <td>0.0</td>\n",
       "    </tr>\n",
       "    <tr>\n",
       "      <th>57016</th>\n",
       "      <td>59.49</td>\n",
       "      <td>1</td>\n",
       "      <td>0</td>\n",
       "      <td>0</td>\n",
       "      <td>328</td>\n",
       "      <td>0.0</td>\n",
       "      <td>0.0</td>\n",
       "      <td>0.0</td>\n",
       "    </tr>\n",
       "  </tbody>\n",
       "</table>\n",
       "<p>57017 rows × 8 columns</p>\n",
       "</div>"
      ],
      "text/plain": [
       "         area  franchise  small_area  closed  period_month  univ_count  \\\n",
       "0       53.00          0           0       1             0         3.0   \n",
       "1        6.60          0           1       1             0         0.0   \n",
       "2       36.00          0           0       1             0         0.0   \n",
       "3       12.23          0           1       1             0         0.0   \n",
       "4       56.00          0           0       1             1         0.0   \n",
       "...       ...        ...         ...     ...           ...         ...   \n",
       "57012   26.70          1           1       0           227         1.0   \n",
       "57013  152.50          1           0       0           153         0.0   \n",
       "57014    8.25          1           1       0           154         0.0   \n",
       "57015  169.60          1           0       0           298         0.0   \n",
       "57016   59.49          1           0       0           328         0.0   \n",
       "\n",
       "       univ_area  univ_pop  \n",
       "0      1049479.0   22578.0  \n",
       "1            0.0       0.0  \n",
       "2            0.0       0.0  \n",
       "3            0.0       0.0  \n",
       "4            0.0       0.0  \n",
       "...          ...       ...  \n",
       "57012    68334.0   10348.0  \n",
       "57013        0.0       0.0  \n",
       "57014        0.0       0.0  \n",
       "57015        0.0       0.0  \n",
       "57016        0.0       0.0  \n",
       "\n",
       "[57017 rows x 8 columns]"
      ]
     },
     "execution_count": 209,
     "metadata": {},
     "output_type": "execute_result"
    }
   ],
   "source": [
    "# 데이터 불러오기\n",
    "data = pd.read_csv(\"df_all.csv\", index_col = 0)\n",
    "data"
   ]
  },
  {
   "cell_type": "markdown",
   "id": "13e7ad41",
   "metadata": {},
   "source": [
    "### (1) 데이터 확인하기"
   ]
  },
  {
   "cell_type": "code",
   "execution_count": 210,
   "id": "2cad711a",
   "metadata": {},
   "outputs": [
    {
     "data": {
      "text/plain": [
       "period_month\n",
       "0      1410\n",
       "24      765\n",
       "12      756\n",
       "7       753\n",
       "5       718\n",
       "       ... \n",
       "627       1\n",
       "483       1\n",
       "795       1\n",
       "622       1\n",
       "645       1\n",
       "Name: count, Length: 632, dtype: int64"
      ]
     },
     "execution_count": 210,
     "metadata": {},
     "output_type": "execute_result"
    }
   ],
   "source": [
    "data['period_month'].value_counts()"
   ]
  },
  {
   "cell_type": "code",
   "execution_count": 211,
   "id": "de7adb47",
   "metadata": {},
   "outputs": [
    {
     "data": {
      "text/plain": [
       "(57017, 8)"
      ]
     },
     "execution_count": 211,
     "metadata": {},
     "output_type": "execute_result"
    }
   ],
   "source": [
    "#데이터 형태 파악\n",
    "data.shape"
   ]
  },
  {
   "cell_type": "code",
   "execution_count": 212,
   "id": "5e3e0a1e",
   "metadata": {},
   "outputs": [
    {
     "data": {
      "text/plain": [
       "area            float64\n",
       "franchise         int64\n",
       "small_area        int64\n",
       "closed            int64\n",
       "period_month      int64\n",
       "univ_count      float64\n",
       "univ_area       float64\n",
       "univ_pop        float64\n",
       "dtype: object"
      ]
     },
     "execution_count": 212,
     "metadata": {},
     "output_type": "execute_result"
    }
   ],
   "source": [
    "#데이터 자료형 확인\n",
    "data.dtypes"
   ]
  },
  {
   "cell_type": "code",
   "execution_count": 213,
   "id": "f16b0cd3",
   "metadata": {
    "scrolled": true
   },
   "outputs": [
    {
     "data": {
      "text/plain": [
       "area            0\n",
       "franchise       0\n",
       "small_area      0\n",
       "closed          0\n",
       "period_month    0\n",
       "univ_count      0\n",
       "univ_area       0\n",
       "univ_pop        0\n",
       "dtype: int64"
      ]
     },
     "execution_count": 213,
     "metadata": {},
     "output_type": "execute_result"
    }
   ],
   "source": [
    "#데이터 결측치 확인\n",
    "data.isnull().sum()"
   ]
  },
  {
   "cell_type": "code",
   "execution_count": 214,
   "id": "a42c6135",
   "metadata": {},
   "outputs": [],
   "source": [
    "#kaplan_Meier에 사용할 변수 생성\n",
    "data_k = data[['franchise', 'closed', 'small_area', 'period_month', 'univ_count']]"
   ]
  },
  {
   "cell_type": "markdown",
   "id": "c4ff0de6",
   "metadata": {},
   "source": [
    "### (2) 데이터 그래프로 분포 확인하기\n",
    "- 히스토그램을 활용하여 확인"
   ]
  },
  {
   "cell_type": "code",
   "execution_count": 215,
   "id": "8e311803",
   "metadata": {},
   "outputs": [
    {
     "data": {
      "image/png": "[encoded data removed]",
      "text/plain": [
       "<Figure size 640x480 with 1 Axes>"
      ]
     },
     "metadata": {},
     "output_type": "display_data"
    },
    {
     "data": {
      "text/plain": [
       "<Figure size 1000x800 with 0 Axes>"
      ]
     },
     "metadata": {},
     "output_type": "display_data"
    }
   ],
   "source": [
    "#데이터 분포 히스토그램 그리기\n",
    "T = data[\"period_month\"]\n",
    "E = data[\"closed\"]\n",
    "plt.hist(T, bins = 1000)\n",
    "plt.xlabel('length')\n",
    "plt.figure(figsize=(10,8))\n",
    "plt.show()"
   ]
  },
  {
   "cell_type": "markdown",
   "id": "d3b3b409",
   "metadata": {},
   "source": [
    "- 영업기간별로 분포 파악\n",
    "- 초반 짧은 개월 사이에 폐업이 많이 일어난다. "
   ]
  },
  {
   "cell_type": "markdown",
   "id": "602c7141",
   "metadata": {},
   "source": [
    "### (3) Kaplan_Meier 생존곡선 그리기"
   ]
  },
  {
   "cell_type": "code",
   "execution_count": 216,
   "id": "e575402b",
   "metadata": {
    "scrolled": true
   },
   "outputs": [
    {
     "data": {
      "text/plain": [
       "<Axes: xlabel='time (months)', ylabel='survival function'>"
      ]
     },
     "execution_count": 216,
     "metadata": {},
     "output_type": "execute_result"
    },
    {
     "data": {
      "image/png": "[encoded data removed]",
      "text/plain": [
       "<Figure size 300x300 with 1 Axes>"
      ]
     },
     "metadata": {},
     "output_type": "display_data"
    }
   ],
   "source": [
    "#km 모델에 데이터 적용 - 전체 데이터에 대한 생존곡선\n",
    "\n",
    "#그래프 크기 지정\n",
    "plt.figure(figsize=(3, 3))\n",
    "#인스턴스 생성\n",
    "kmf = KaplanMeierFitter()\n",
    "#데이터 넣기\n",
    "kmf.fit(durations = T, event_observed = E)\n",
    "#그래프 그리기\n",
    "plot = kmf.plot_survival_function()\n",
    "plot.set_xlabel('time (months)')\n",
    "plot.set_ylabel('survival function')\n",
    "plot"
   ]
  },
  {
   "cell_type": "markdown",
   "id": "3c2be0ad",
   "metadata": {},
   "source": [
    "- 전체 데이터에 대한 누적생존율을 보여주고 있다. "
   ]
  },
  {
   "cell_type": "code",
   "execution_count": 221,
   "id": "836e2871",
   "metadata": {},
   "outputs": [],
   "source": [
    "#사용할 데이터 추출\n",
    "#대학교 수 별로\n",
    "data_univ_0 = data_k[data_k['univ_count'] == 0]\n",
    "data_univ_1 = data_k[data_k['univ_count'] == 1]\n",
    "data_univ_2 = data_k[data_k['univ_count'] == 2]\n",
    "data_univ_3 = data_k[data_k['univ_count'] == 3]"
   ]
  },
  {
   "cell_type": "code",
   "execution_count": 223,
   "id": "5ab4d8e7",
   "metadata": {},
   "outputs": [
    {
     "data": {
      "text/plain": [
       "<Axes: xlabel='Time (Months)', ylabel='Survival Rate'>"
      ]
     },
     "execution_count": 223,
     "metadata": {},
     "output_type": "execute_result"
    },
    {
     "data": {
      "image/png": "[encoded data removed]",
      "text/plain": [
       "<Figure size 640x480 with 1 Axes>"
      ]
     },
     "metadata": {},
     "output_type": "display_data"
    }
   ],
   "source": [
    "#Kaplan-Meier 생존곡선 비교\n",
    "#대학교 개수를 기준으로 0, 1, 2, 3개(같은 동에 대학교 최대 3개 존재) 있는 집단의 생존률 비교하는 4개의 곡선 생성\n",
    "kmf = KaplanMeierFitter()\n",
    "kmf.fit(data_univ_0['period_month'], data_univ_0['closed'], label='univ=0')\n",
    "ax_kmf = kmf.plot()\n",
    "kmf.fit(data_univ_1['period_month'], data_univ_1['closed'], label='univ=1')\n",
    "ax_kmf = kmf.plot(ax = ax_kmf)\n",
    "kmf.fit(data_univ_2['period_month'], data_univ_2['closed'], label='univ=2')\n",
    "ax_kmf = kmf.plot(ax = ax_kmf)\n",
    "kmf.fit(data_univ_3['period_month'], data_univ_3['closed'], label='univ=3')\n",
    "ax_kmf = kmf.plot(ax = ax_kmf)\n",
    "#그래프 label값 설정\n",
    "ax_kmf.set_xlabel('Time (Months)')\n",
    "ax_kmf.set_ylabel('Survival Rate')\n",
    "ax_kmf"
   ]
  },
  {
   "cell_type": "markdown",
   "id": "8052f886",
   "metadata": {},
   "source": [
    "### (4) log rank model\n",
    "- 그룹별 차이가 통계적으로 유의한지 확인"
   ]
  },
  {
   "cell_type": "code",
   "execution_count": 225,
   "id": "ce1b298f",
   "metadata": {},
   "outputs": [
    {
     "data": {
      "text/plain": [
       "2.0630633027339563e-07"
      ]
     },
     "execution_count": 225,
     "metadata": {},
     "output_type": "execute_result"
    }
   ],
   "source": [
    "from lifelines.statistics import logrank_test\n",
    "from lifelines.statistics import logrank_test\n",
    "#p-value 구하가\n",
    "logrank_test(data_univ_0[\"period_month\"], data_univ_1[\"period_month\"], data_univ_0[\"closed\"], data_univ_1[\"closed\"]).p_value"
   ]
  },
  {
   "cell_type": "code",
   "execution_count": 226,
   "id": "f2ac1527",
   "metadata": {},
   "outputs": [
    {
     "data": {
      "text/plain": [
       "0.01680198594136637"
      ]
     },
     "execution_count": 226,
     "metadata": {},
     "output_type": "execute_result"
    }
   ],
   "source": [
    "from lifelines.statistics import logrank_test\n",
    "from lifelines.statistics import logrank_test\n",
    "#p-value 구하가\n",
    "logrank_test(data_univ_0[\"period_month\"], data_univ_2[\"period_month\"], data_univ_0[\"closed\"], data_univ_2[\"closed\"]).p_value"
   ]
  },
  {
   "cell_type": "code",
   "execution_count": 227,
   "id": "d2699563",
   "metadata": {},
   "outputs": [
    {
     "data": {
      "text/plain": [
       "0.24323632060127706"
      ]
     },
     "execution_count": 227,
     "metadata": {},
     "output_type": "execute_result"
    }
   ],
   "source": [
    "from lifelines.statistics import logrank_test\n",
    "from lifelines.statistics import logrank_test\n",
    "#p-value 구하가\n",
    "logrank_test(data_univ_0[\"period_month\"], data_univ_3[\"period_month\"], data_univ_0[\"closed\"], data_univ_3[\"closed\"]).p_value"
   ]
  },
  {
   "cell_type": "code",
   "execution_count": 229,
   "id": "e779e649",
   "metadata": {},
   "outputs": [
    {
     "data": {
      "text/plain": [
       "0.40249509521964155"
      ]
     },
     "execution_count": 229,
     "metadata": {},
     "output_type": "execute_result"
    }
   ],
   "source": [
    "from lifelines.statistics import logrank_test\n",
    "from lifelines.statistics import logrank_test\n",
    "#p-value 구하가\n",
    "logrank_test(data_univ_1[\"period_month\"], data_univ_2[\"period_month\"], data_univ_1[\"closed\"], data_univ_2[\"closed\"]).p_value"
   ]
  },
  {
   "cell_type": "code",
   "execution_count": 230,
   "id": "6d61c60a",
   "metadata": {},
   "outputs": [
    {
     "data": {
      "text/plain": [
       "0.7638857894378461"
      ]
     },
     "execution_count": 230,
     "metadata": {},
     "output_type": "execute_result"
    }
   ],
   "source": [
    "from lifelines.statistics import logrank_test\n",
    "from lifelines.statistics import logrank_test\n",
    "#p-value 구하가\n",
    "logrank_test(data_univ_1[\"period_month\"], data_univ_3[\"period_month\"], data_univ_1[\"closed\"], data_univ_3[\"closed\"]).p_value"
   ]
  },
  {
   "cell_type": "code",
   "execution_count": 231,
   "id": "f38ab33e",
   "metadata": {},
   "outputs": [
    {
     "data": {
      "text/plain": [
       "0.8375906514123277"
      ]
     },
     "execution_count": 231,
     "metadata": {},
     "output_type": "execute_result"
    }
   ],
   "source": [
    "from lifelines.statistics import logrank_test\n",
    "from lifelines.statistics import logrank_test\n",
    "#p-value 구하가\n",
    "logrank_test(data_univ_2[\"period_month\"], data_univ_3[\"period_month\"], data_univ_2[\"closed\"], data_univ_3[\"closed\"]).p_value"
   ]
  },
  {
   "cell_type": "markdown",
   "id": "b16a4d15",
   "metadata": {},
   "source": [
    "- p-value < 0.05 이면 그룹 간의 차이가 유의하다고 판단한다. \n",
    "- 그러므로 대학교 개수가 0개, 2개 그룹은 통계적으로 유의미한 차이가 있다. \n",
    "- 대학교 개수가 0개, 1개인 그룹은 통계적으로 유의미한 차이가 없다. \n",
    "- 대학교 개수가 0개, 3개인 그룹은 통계적으로 유의미한 차이가 없다. \n",
    "- 대학교 개수가 1개, 2개인 그룹은 통계적으로 유의미한 차이가 없다. \n",
    "- 대학교 개수가 1개, 3개인 그룹은 통계적으로 유의미한 차이가 없다. \n",
    "- 대학교 개수가 2개, 3개인 그룹은 통계적으로 유의미한 차이가 없다. "
   ]
  },
  {
   "cell_type": "markdown",
   "id": "a4077df4",
   "metadata": {},
   "source": [
    "## 2. Cox 비례 위험 모형"
   ]
  },
  {
   "cell_type": "markdown",
   "id": "a3813471",
   "metadata": {},
   "source": [
    "- 생존에 영향을 미치는 위험 요인들에 대한 분석"
   ]
  },
  {
   "cell_type": "code",
   "execution_count": 233,
   "id": "f52dc3ea",
   "metadata": {},
   "outputs": [
    {
     "data": {
      "text/html": [
       "<div>\n",
       "<style scoped>\n",
       "    .dataframe tbody tr th:only-of-type {\n",
       "        vertical-align: middle;\n",
       "    }\n",
       "\n",
       "    .dataframe tbody tr th {\n",
       "        vertical-align: top;\n",
       "    }\n",
       "\n",
       "    .dataframe thead th {\n",
       "        text-align: right;\n",
       "    }\n",
       "</style>\n",
       "<table border=\"1\" class=\"dataframe\">\n",
       "  <tbody>\n",
       "    <tr>\n",
       "      <th>model</th>\n",
       "      <td>lifelines.CoxPHFitter</td>\n",
       "    </tr>\n",
       "    <tr>\n",
       "      <th>duration col</th>\n",
       "      <td>'period_month'</td>\n",
       "    </tr>\n",
       "    <tr>\n",
       "      <th>event col</th>\n",
       "      <td>'closed'</td>\n",
       "    </tr>\n",
       "    <tr>\n",
       "      <th>baseline estimation</th>\n",
       "      <td>breslow</td>\n",
       "    </tr>\n",
       "    <tr>\n",
       "      <th>number of observations</th>\n",
       "      <td>57017</td>\n",
       "    </tr>\n",
       "    <tr>\n",
       "      <th>number of events observed</th>\n",
       "      <td>39158</td>\n",
       "    </tr>\n",
       "    <tr>\n",
       "      <th>partial log-likelihood</th>\n",
       "      <td>-390773.59</td>\n",
       "    </tr>\n",
       "    <tr>\n",
       "      <th>time fit was run</th>\n",
       "      <td>2023-12-08 20:09:19 UTC</td>\n",
       "    </tr>\n",
       "  </tbody>\n",
       "</table>\n",
       "</div><table border=\"1\" class=\"dataframe\">\n",
       "  <thead>\n",
       "    <tr style=\"text-align: right;\">\n",
       "      <th style=\"min-width: 12px;\"></th>\n",
       "      <th style=\"min-width: 12px;\">coef</th>\n",
       "      <th style=\"min-width: 12px;\">exp(coef)</th>\n",
       "      <th style=\"min-width: 12px;\">se(coef)</th>\n",
       "      <th style=\"min-width: 12px;\">coef lower 95%</th>\n",
       "      <th style=\"min-width: 12px;\">coef upper 95%</th>\n",
       "      <th style=\"min-width: 12px;\">exp(coef) lower 95%</th>\n",
       "      <th style=\"min-width: 12px;\">exp(coef) upper 95%</th>\n",
       "      <th style=\"min-width: 12px;\">cmp to</th>\n",
       "      <th style=\"min-width: 12px;\">z</th>\n",
       "      <th style=\"min-width: 12px;\">p</th>\n",
       "      <th style=\"min-width: 12px;\">-log2(p)</th>\n",
       "    </tr>\n",
       "  </thead>\n",
       "  <tbody>\n",
       "    <tr>\n",
       "      <th>franchise</th>\n",
       "      <td>-0.57</td>\n",
       "      <td>0.57</td>\n",
       "      <td>0.02</td>\n",
       "      <td>-0.61</td>\n",
       "      <td>-0.52</td>\n",
       "      <td>0.54</td>\n",
       "      <td>0.59</td>\n",
       "      <td>0.00</td>\n",
       "      <td>-25.19</td>\n",
       "      <td>&lt;0.005</td>\n",
       "      <td>462.53</td>\n",
       "    </tr>\n",
       "    <tr>\n",
       "      <th>small_area</th>\n",
       "      <td>0.19</td>\n",
       "      <td>1.21</td>\n",
       "      <td>0.01</td>\n",
       "      <td>0.17</td>\n",
       "      <td>0.22</td>\n",
       "      <td>1.19</td>\n",
       "      <td>1.24</td>\n",
       "      <td>0.00</td>\n",
       "      <td>16.91</td>\n",
       "      <td>&lt;0.005</td>\n",
       "      <td>210.75</td>\n",
       "    </tr>\n",
       "    <tr>\n",
       "      <th>univ_count</th>\n",
       "      <td>0.09</td>\n",
       "      <td>1.09</td>\n",
       "      <td>0.02</td>\n",
       "      <td>0.06</td>\n",
       "      <td>0.12</td>\n",
       "      <td>1.06</td>\n",
       "      <td>1.12</td>\n",
       "      <td>0.00</td>\n",
       "      <td>5.88</td>\n",
       "      <td>&lt;0.005</td>\n",
       "      <td>27.83</td>\n",
       "    </tr>\n",
       "    <tr>\n",
       "      <th>univ_area</th>\n",
       "      <td>0.00</td>\n",
       "      <td>1.00</td>\n",
       "      <td>0.00</td>\n",
       "      <td>0.00</td>\n",
       "      <td>0.00</td>\n",
       "      <td>1.00</td>\n",
       "      <td>1.00</td>\n",
       "      <td>0.00</td>\n",
       "      <td>3.62</td>\n",
       "      <td>&lt;0.005</td>\n",
       "      <td>11.72</td>\n",
       "    </tr>\n",
       "    <tr>\n",
       "      <th>univ_pop</th>\n",
       "      <td>-0.00</td>\n",
       "      <td>1.00</td>\n",
       "      <td>0.00</td>\n",
       "      <td>-0.00</td>\n",
       "      <td>-0.00</td>\n",
       "      <td>1.00</td>\n",
       "      <td>1.00</td>\n",
       "      <td>0.00</td>\n",
       "      <td>-3.69</td>\n",
       "      <td>&lt;0.005</td>\n",
       "      <td>12.13</td>\n",
       "    </tr>\n",
       "  </tbody>\n",
       "</table><br><div>\n",
       "<style scoped>\n",
       "    .dataframe tbody tr th:only-of-type {\n",
       "        vertical-align: middle;\n",
       "    }\n",
       "\n",
       "    .dataframe tbody tr th {\n",
       "        vertical-align: top;\n",
       "    }\n",
       "\n",
       "    .dataframe thead th {\n",
       "        text-align: right;\n",
       "    }\n",
       "</style>\n",
       "<table border=\"1\" class=\"dataframe\">\n",
       "  <tbody>\n",
       "    <tr>\n",
       "      <th>Concordance</th>\n",
       "      <td>0.55</td>\n",
       "    </tr>\n",
       "    <tr>\n",
       "      <th>Partial AIC</th>\n",
       "      <td>781557.19</td>\n",
       "    </tr>\n",
       "    <tr>\n",
       "      <th>log-likelihood ratio test</th>\n",
       "      <td>1174.33 on 5 df</td>\n",
       "    </tr>\n",
       "    <tr>\n",
       "      <th>-log2(p) of ll-ratio test</th>\n",
       "      <td>833.71</td>\n",
       "    </tr>\n",
       "  </tbody>\n",
       "</table>\n",
       "</div>"
      ],
      "text/latex": [
       "\\begin{tabular}{lrrrrrrrrrrr}\n",
       " & coef & exp(coef) & se(coef) & coef lower 95% & coef upper 95% & exp(coef) lower 95% & exp(coef) upper 95% & cmp to & z & p & -log2(p) \\\\\n",
       "covariate &  &  &  &  &  &  &  &  &  &  &  \\\\\n",
       "franchise & -0.57 & 0.57 & 0.02 & -0.61 & -0.52 & 0.54 & 0.59 & 0.00 & -25.19 & 0.00 & 462.53 \\\\\n",
       "small_area & 0.19 & 1.21 & 0.01 & 0.17 & 0.22 & 1.19 & 1.24 & 0.00 & 16.91 & 0.00 & 210.75 \\\\\n",
       "univ_count & 0.09 & 1.09 & 0.02 & 0.06 & 0.12 & 1.06 & 1.12 & 0.00 & 5.88 & 0.00 & 27.83 \\\\\n",
       "univ_area & 0.00 & 1.00 & 0.00 & 0.00 & 0.00 & 1.00 & 1.00 & 0.00 & 3.62 & 0.00 & 11.72 \\\\\n",
       "univ_pop & -0.00 & 1.00 & 0.00 & -0.00 & -0.00 & 1.00 & 1.00 & 0.00 & -3.69 & 0.00 & 12.13 \\\\\n",
       "\\end{tabular}\n"
      ],
      "text/plain": [
       "<lifelines.CoxPHFitter: fitted with 57017 total observations, 17859 right-censored observations>\n",
       "             duration col = 'period_month'\n",
       "                event col = 'closed'\n",
       "      baseline estimation = breslow\n",
       "   number of observations = 57017\n",
       "number of events observed = 39158\n",
       "   partial log-likelihood = -390773.59\n",
       "         time fit was run = 2023-12-08 20:09:19 UTC\n",
       "\n",
       "---\n",
       "             coef  exp(coef)   se(coef)   coef lower 95%   coef upper 95%  exp(coef) lower 95%  exp(coef) upper 95%\n",
       "covariate                                                                                                          \n",
       "franchise   -0.57       0.57       0.02            -0.61            -0.52                 0.54                 0.59\n",
       "small_area   0.19       1.21       0.01             0.17             0.22                 1.19                 1.24\n",
       "univ_count   0.09       1.09       0.02             0.06             0.12                 1.06                 1.12\n",
       "univ_area    0.00       1.00       0.00             0.00             0.00                 1.00                 1.00\n",
       "univ_pop    -0.00       1.00       0.00            -0.00            -0.00                 1.00                 1.00\n",
       "\n",
       "             cmp to      z      p   -log2(p)\n",
       "covariate                                   \n",
       "franchise      0.00 -25.19 <0.005     462.53\n",
       "small_area     0.00  16.91 <0.005     210.75\n",
       "univ_count     0.00   5.88 <0.005      27.83\n",
       "univ_area      0.00   3.62 <0.005      11.72\n",
       "univ_pop       0.00  -3.69 <0.005      12.13\n",
       "---\n",
       "Concordance = 0.55\n",
       "Partial AIC = 781557.19\n",
       "log-likelihood ratio test = 1174.33 on 5 df\n",
       "-log2(p) of ll-ratio test = 833.71"
      ]
     },
     "metadata": {},
     "output_type": "display_data"
    }
   ],
   "source": [
    "#Cox 모델에 넣기\n",
    "from lifelines import CoxPHFitter\n",
    "cph = CoxPHFitter()\n",
    "cph.fit(data.drop(columns='area'), duration_col = 'period_month', event_col = 'closed')\n",
    "cph.print_summary()"
   ]
  },
  {
   "cell_type": "markdown",
   "id": "ea337b2b",
   "metadata": {},
   "source": [
    "- 모두 p-value가 0.05보다 작아서 유의하다. \n",
    "- 보유면적과 재학생_전체_계는 한 단위가 늘어나도 위험도가 높아지지 않는다.\n",
    "\n",
    "- 프랜차이즈의 Hazard Ratio = e^(-0.57) = 0.5655\n",
    "- 그러므로 프랜차이즈는 프랜차이즈가 아닌 카페보다 (1-0.5655) = 43% 폐업 확률이 낮다.\n",
    "\n",
    "- 소형면적의 Hazard Ratio = e^(-0.19) = 1.2092\n",
    "- 그러므로 소형면적의 카페는 소형면적이 아닌 카페보다 20% 폐업 확률이 높다.\n",
    "\n",
    "- 학교 수가 1 단위 늘어날 때 폐업 위험이 9% 증가한다. (1.09배)"
   ]
  },
  {
   "cell_type": "code",
   "execution_count": 234,
   "id": "22c8b123",
   "metadata": {},
   "outputs": [
    {
     "data": {
      "text/plain": [
       "<Axes: xlabel='log(HR) (95% CI)'>"
      ]
     },
     "execution_count": 234,
     "metadata": {},
     "output_type": "execute_result"
    },
    {
     "data": {
      "image/png": "[encoded data removed]",
      "text/plain": [
       "<Figure size 300x300 with 1 Axes>"
      ]
     },
     "metadata": {},
     "output_type": "display_data"
    }
   ],
   "source": [
    "#모델 결과 시각화\n",
    "plt.subplots(figsize = (3, 3))\n",
    "cph.plot()"
   ]
  }
 ],
 "metadata": {
  "kernelspec": {
   "display_name": "Python 3 (ipykernel)",
   "language": "python",
   "name": "python3"
  },
  "language_info": {
   "codemirror_mode": {
    "name": "ipython",
    "version": 3
   },
   "file_extension": ".py",
   "mimetype": "text/x-python",
   "name": "python",
   "nbconvert_exporter": "python",
   "pygments_lexer": "ipython3",
   "version": "3.11.5"
  }
 },
 "nbformat": 4,
 "nbformat_minor": 5
}
